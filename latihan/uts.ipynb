{
 "cells": [
  {
   "cell_type": "markdown",
   "metadata": {},
   "source": [
    "- Universitas Esa Unggul memiliki detail mahasiswa sebagai berikut :\n",
    "- Ani, Budi, Joni, Jono dan Lono\n",
    "- Setiap mahasiswa dating ke kampus mulai dari hari senin sampai minggu\n",
    "- Untuk melakukan kegiatan kuliah\n",
    "- Ani menghabiskan biaya 30000 dikampus setiap datang\n",
    "- Budi menghabiskan biaya 35000 dikampus setiap datang\n",
    "- Joni menghabiskan biaya 20000 dikampus setiap datang\n",
    "- Jono 25000 dan Lono 15000\n"
   ]
  },
  {
   "cell_type": "code",
   "execution_count": 20,
   "metadata": {},
   "outputs": [],
   "source": [
    "import pandas as pd\n",
    "import numpy as np"
   ]
  },
  {
   "cell_type": "code",
   "execution_count": null,
   "metadata": {},
   "outputs": [],
   "source": []
  }
 ],
 "metadata": {
  "kernelspec": {
   "display_name": "Python 3.8.10 64-bit",
   "language": "python",
   "name": "python3"
  },
  "language_info": {
   "codemirror_mode": {
    "name": "ipython",
    "version": 3
   },
   "file_extension": ".py",
   "mimetype": "text/x-python",
   "name": "python",
   "nbconvert_exporter": "python",
   "pygments_lexer": "ipython3",
   "version": "3.8.10"
  },
  "orig_nbformat": 4,
  "vscode": {
   "interpreter": {
    "hash": "916dbcbb3f70747c44a77c7bcd40155683ae19c65e1c03b4aa3499c5328201f1"
   }
  }
 },
 "nbformat": 4,
 "nbformat_minor": 2
}
