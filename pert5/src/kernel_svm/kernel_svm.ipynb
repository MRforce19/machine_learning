{
 "cells": [
  {
   "cell_type": "code",
   "execution_count": 1,
   "metadata": {},
   "outputs": [],
   "source": [
    "import sklearn\n",
    "from sklearn import svm\n",
    "from sklearn import datasets\n",
    "from sklearn import metrics"
   ]
  },
  {
   "cell_type": "code",
   "execution_count": 2,
   "metadata": {},
   "outputs": [],
   "source": [
    "cancer = datasets.load_breast_cancer()"
   ]
  },
  {
   "cell_type": "code",
   "execution_count": 3,
   "metadata": {},
   "outputs": [
    {
     "name": "stdout",
     "output_type": "stream",
     "text": [
      "Features:  ['mean radius' 'mean texture' 'mean perimeter' 'mean area'\n",
      " 'mean smoothness' 'mean compactness' 'mean concavity'\n",
      " 'mean concave points' 'mean symmetry' 'mean fractal dimension'\n",
      " 'radius error' 'texture error' 'perimeter error' 'area error'\n",
      " 'smoothness error' 'compactness error' 'concavity error'\n",
      " 'concave points error' 'symmetry error' 'fractal dimension error'\n",
      " 'worst radius' 'worst texture' 'worst perimeter' 'worst area'\n",
      " 'worst smoothness' 'worst compactness' 'worst concavity'\n",
      " 'worst concave points' 'worst symmetry' 'worst fractal dimension']\n",
      "Labels:  ['malignant' 'benign']\n"
     ]
    }
   ],
   "source": [
    "print(\"Features: \", cancer.feature_names)\n",
    "print(\"Labels: \", cancer.target_names)\n"
   ]
  },
  {
   "cell_type": "code",
   "execution_count": 4,
   "metadata": {},
   "outputs": [],
   "source": [
    "x = cancer.data  # All of the features\n",
    "y = cancer.target  # All of the labels"
   ]
  },
  {
   "cell_type": "code",
   "execution_count": 6,
   "metadata": {},
   "outputs": [
    {
     "name": "stdout",
     "output_type": "stream",
     "text": [
      "[[1.706e+01 2.100e+01 1.118e+02 9.186e+02 1.119e-01 1.056e-01 1.508e-01\n",
      "  9.934e-02 1.727e-01 6.071e-02 8.161e-01 2.129e+00 6.076e+00 8.717e+01\n",
      "  6.455e-03 1.797e-02 4.502e-02 1.744e-02 1.829e-02 3.733e-03 2.099e+01\n",
      "  3.315e+01 1.432e+02 1.362e+03 1.449e-01 2.053e-01 3.920e-01 1.827e-01\n",
      "  2.623e-01 7.599e-02]\n",
      " [1.268e+01 2.384e+01 8.269e+01 4.990e+02 1.122e-01 1.262e-01 1.128e-01\n",
      "  6.873e-02 1.905e-01 6.590e-02 4.255e-01 1.178e+00 2.927e+00 3.646e+01\n",
      "  7.781e-03 2.648e-02 2.973e-02 1.290e-02 1.635e-02 3.601e-03 1.709e+01\n",
      "  3.347e+01 1.118e+02 8.883e+02 1.851e-01 4.061e-01 4.024e-01 1.716e-01\n",
      "  3.383e-01 1.031e-01]\n",
      " [1.195e+01 1.496e+01 7.723e+01 4.267e+02 1.158e-01 1.206e-01 1.171e-02\n",
      "  1.787e-02 2.459e-01 6.581e-02 3.610e-01 1.050e+00 2.455e+00 2.665e+01\n",
      "  5.800e-03 2.417e-02 7.816e-03 1.052e-02 2.734e-02 3.114e-03 1.281e+01\n",
      "  1.772e+01 8.309e+01 4.962e+02 1.293e-01 1.885e-01 3.122e-02 4.766e-02\n",
      "  3.124e-01 7.590e-02]\n",
      " [1.204e+01 2.814e+01 7.685e+01 4.499e+02 8.752e-02 6.000e-02 2.367e-02\n",
      "  2.377e-02 1.854e-01 5.698e-02 6.061e-01 2.643e+00 4.099e+00 4.496e+01\n",
      "  7.517e-03 1.555e-02 1.465e-02 1.183e-02 2.047e-02 3.883e-03 1.360e+01\n",
      "  3.333e+01 8.724e+01 5.676e+02 1.041e-01 9.726e-02 5.524e-02 5.547e-02\n",
      "  2.404e-01 6.639e-02]\n",
      " [1.390e+01 1.924e+01 8.873e+01 6.029e+02 7.991e-02 5.326e-02 2.995e-02\n",
      "  2.070e-02 1.579e-01 5.594e-02 3.316e-01 9.264e-01 2.056e+00 2.841e+01\n",
      "  3.704e-03 1.082e-02 1.530e-02 6.275e-03 1.062e-02 2.217e-03 1.641e+01\n",
      "  2.642e+01 1.044e+02 8.305e+02 1.064e-01 1.415e-01 1.673e-01 8.150e-02\n",
      "  2.356e-01 7.603e-02]] [0 0 1 1 1]\n"
     ]
    }
   ],
   "source": [
    "x_train, x_test, y_train, y_test = sklearn.model_selection.train_test_split(x, y, test_size=0.2)\n",
    "print(x_train[:5], y_train[:5])\n"
   ]
  },
  {
   "cell_type": "code",
   "execution_count": 8,
   "metadata": {},
   "outputs": [],
   "source": [
    "\"\"\" Change the Kernel to another option \n",
    "- linear\n",
    "- poly\n",
    "- rbf\n",
    "- sigmoid\n",
    "- precomputed\n",
    "\"\"\"\n",
    "clf = svm.SVC(kernel=\"linear\")"
   ]
  },
  {
   "cell_type": "code",
   "execution_count": 9,
   "metadata": {},
   "outputs": [
    {
     "name": "stdout",
     "output_type": "stream",
     "text": [
      "0.9649122807017544\n",
      "0.9649122807017544\n"
     ]
    }
   ],
   "source": [
    "clf_with_margin = svm.SVC(kernel=\"linear\", C=2)\n",
    "\n",
    "clf.fit(x_train, y_train)\n",
    "clf_with_margin.fit(x_train, y_train)\n",
    "\n",
    "y_pred = clf.predict(x_test)\n",
    "y_pred_margin = clf_with_margin.predict(x_test)\n",
    "\n",
    "acc = metrics.accuracy_score(y_test, y_pred)\n",
    "acc_margin = metrics.accuracy_score(y_test, y_pred_margin)\n",
    "\n",
    "print(acc)\n",
    "print(acc_margin)"
   ]
  }
 ],
 "metadata": {
  "interpreter": {
   "hash": "916dbcbb3f70747c44a77c7bcd40155683ae19c65e1c03b4aa3499c5328201f1"
  },
  "kernelspec": {
   "display_name": "Python 3.8.10 64-bit",
   "language": "python",
   "name": "python3"
  },
  "language_info": {
   "codemirror_mode": {
    "name": "ipython",
    "version": 3
   },
   "file_extension": ".py",
   "mimetype": "text/x-python",
   "name": "python",
   "nbconvert_exporter": "python",
   "pygments_lexer": "ipython3",
   "version": "3.8.10"
  },
  "orig_nbformat": 4
 },
 "nbformat": 4,
 "nbformat_minor": 2
}
