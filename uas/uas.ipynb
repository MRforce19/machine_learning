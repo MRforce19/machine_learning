{
 "cells": [
  {
   "attachments": {},
   "cell_type": "markdown",
   "metadata": {},
   "source": [
    "# UAS MACHINE LEARNING ESA UNGGUL"
   ]
  },
  {
   "attachments": {},
   "cell_type": "markdown",
   "metadata": {},
   "source": [
    "# SOAL 4 A\n",
    "\n",
    "Lakukan import Library Pandas dan Library Numpy"
   ]
  },
  {
   "cell_type": "code",
   "execution_count": null,
   "metadata": {},
   "outputs": [],
   "source": [
    "#Jawaban\n",
    "#Import Library Pandas\n",
    "\n",
    "\n",
    "#Import Library Numpy\n",
    "\n"
   ]
  },
  {
   "attachments": {},
   "cell_type": "markdown",
   "metadata": {},
   "source": [
    "# SOAL 4 B\n",
    "DATAFRAME\n",
    "\n",
    "DataFrame adalah struktur data 2 dimensi yang berbentuk tabular (mempunyai baris dan kolom). Hampir semua data tidak hanya memiliki 1 kolom tetapi lebih dari 1 kolom, sehingga lebih cocok menggunakan pandas DataFrame untuk mengolahnya.\n",
    "\n",
    "Penggunaan dataframe pada Python dengan menggunakan syntaks: df."
   ]
  },
  {
   "cell_type": "code",
   "execution_count": null,
   "metadata": {},
   "outputs": [],
   "source": [
    "#Jawaban\n",
    "#Panggil file (load file bernama Iris.csv) dan simpan dalam dataframe \n",
    "\n",
    "\n"
   ]
  },
  {
   "attachments": {},
   "cell_type": "markdown",
   "metadata": {},
   "source": [
    "# SOAL 4 C\n",
    "Telaah Data\n",
    "Pada telaah data, dapat dilakukan untuk mengetahui:\n",
    "- tipe data dari setiap kolom\n",
    "- deskripsi statistik data"
   ]
  },
  {
   "cell_type": "code",
   "execution_count": null,
   "metadata": {},
   "outputs": [],
   "source": [
    "#Jawaban\n",
    "#Tampilkan tipe data dari kolom yang ada pada dataset\n",
    "\n"
   ]
  },
  {
   "attachments": {},
   "cell_type": "markdown",
   "metadata": {},
   "source": [
    "# SOAL 4 D\n",
    "\n",
    "Apakah tipe Data dari kolom berikut ini: (silakan diisi pada cell di bawah ini)\n"
   ]
  },
  {
   "cell_type": "code",
   "execution_count": null,
   "metadata": {},
   "outputs": [],
   "source": [
    "#Jawaban\n",
    "#Tipe Data dari kolom yang ada di dataset\n",
    "\n",
    "#Kolom  \"Id\" memiliki tipe data = ................ <isikan jawaban di sini>\n",
    "#Kolom \"SepalLengthCm\" memiliki tipe data = ...... <isikan jawaban di sini>\n",
    "#Kolom \"Species\" memiliki tipe data = ............ <isikan jawaban di sini>"
   ]
  },
  {
   "attachments": {},
   "cell_type": "markdown",
   "metadata": {},
   "source": [
    "# SOAL 4 E\n",
    "\n",
    "Hitunglah ukuran (jumlah baris dan kolom) dari dataset. "
   ]
  },
  {
   "cell_type": "code",
   "execution_count": null,
   "metadata": {},
   "outputs": [],
   "source": [
    "#Latihan (6)\n",
    "#Hitung ukuran (jumlah baris dan kolom) dari dataset\n"
   ]
  },
  {
   "attachments": {},
   "cell_type": "markdown",
   "metadata": {},
   "source": [
    "# SOAL 4 F\n",
    "\n",
    "Tampilkan data yang hanya berisi kolom \"Id\" dan kolom \"Species\" dalam bentuk dataframe."
   ]
  },
  {
   "cell_type": "code",
   "execution_count": null,
   "metadata": {},
   "outputs": [],
   "source": [
    "#Jawaban\n",
    "#Tampilkan data untuk kolom \"Id\" dan kolom \"Species\" dalam bentuk dataframe\n"
   ]
  },
  {
   "attachments": {},
   "cell_type": "markdown",
   "metadata": {},
   "source": [
    "# SOAL 4 G\n",
    "\n",
    "Tampilkan data dengan dataframe, dan data yang ditampilkan adalah data pada baris dengan indeks 0 (nol) sampai dengan indeks 9 (sembilan)"
   ]
  },
  {
   "cell_type": "code",
   "execution_count": null,
   "metadata": {},
   "outputs": [],
   "source": [
    "#Jawaban\n",
    "#Tampilkan data dengan dataframe, dan data yang ditampilkan adalah baris dengan indeks 0 (nol) sampai dengan indeks 9 (sembilan)\n"
   ]
  },
  {
   "attachments": {},
   "cell_type": "markdown",
   "metadata": {},
   "source": [
    "# SOAL 4 H\n",
    "\n",
    "Tampilkan data hanya kolom \"Id\" dan kolom \"Species\" dengan dataframe, dan yang ditampilkan adalah data pada baris dengan indeks 11 (sebelas) sampai dengan indeks 15 (limabelas)"
   ]
  },
  {
   "cell_type": "code",
   "execution_count": null,
   "metadata": {},
   "outputs": [],
   "source": [
    "#Jawaban\n",
    "#Tampilkan data hanya kolom \"Id\" dan kolom \"Species\", pada baris dengan indeks 0 (nol) sampai dengan indeks 9 (sembilan)\n",
    "\n",
    "# kolom = \"Species\"\n",
    "# indexno = df.columns.get_loc(kolom)\n",
    "\n",
    "# print (\"index of {} kolom {}\".format(kolom, indexno))\n"
   ]
  },
  {
   "attachments": {},
   "cell_type": "markdown",
   "metadata": {},
   "source": [
    "# SOAL 4 I\n",
    "\n",
    "Pada DataFrame dapat menampilkan beberapa baris pertama/terakhir dari dataset yang di load. Gunakan Method head() dan tail().\n",
    "\n",
    "Latihan: Tampilkan data pada 8 (delapan) baris pertama dari dataset, dengan dataframe."
   ]
  },
  {
   "cell_type": "code",
   "execution_count": null,
   "metadata": {},
   "outputs": [],
   "source": [
    "#Jawaban\n",
    "#Tampilkan data pada 8 (delapan) baris pertama dari dataset, dengan dataframe\n"
   ]
  },
  {
   "attachments": {},
   "cell_type": "markdown",
   "metadata": {},
   "source": [
    "## Selamat Berjuang Ujian Akhir Semester ##\n"
   ]
  }
 ],
 "metadata": {
  "kernelspec": {
   "display_name": "Python 3.8.10 64-bit",
   "language": "python",
   "name": "python3"
  },
  "language_info": {
   "codemirror_mode": {
    "name": "ipython",
    "version": 3
   },
   "file_extension": ".py",
   "mimetype": "text/x-python",
   "name": "python",
   "nbconvert_exporter": "python",
   "pygments_lexer": "ipython3",
   "version": "3.8.10"
  },
  "vscode": {
   "interpreter": {
    "hash": "916dbcbb3f70747c44a77c7bcd40155683ae19c65e1c03b4aa3499c5328201f1"
   }
  }
 },
 "nbformat": 4,
 "nbformat_minor": 4
}
