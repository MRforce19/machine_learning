{
 "cells": [
  {
   "cell_type": "markdown",
   "id": "cd6858d0",
   "metadata": {},
   "source": [
    "# INTRO WITH PYTHON"
   ]
  },
  {
   "cell_type": "code",
   "execution_count": 15,
   "id": "780df978",
   "metadata": {},
   "outputs": [],
   "source": [
    "print (\"hello word\")"
   ]
  },
  {
   "cell_type": "markdown",
   "id": "8dfb6d45",
   "metadata": {},
   "source": [
    "# ATURAN PENULISAN SYNTAX PYTHON"
   ]
  },
  {
   "cell_type": "markdown",
   "id": "30161ab2",
   "metadata": {},
   "source": [
    "### Penulisan Statement Python"
   ]
  },
  {
   "cell_type": "code",
   "execution_count": 1,
   "id": "c63913af",
   "metadata": {},
   "outputs": [
    {
     "name": "stdout",
     "output_type": "stream",
     "text": [
      "intro to python\n"
     ]
    }
   ],
   "source": [
    "intro = \"intro to python\"\n",
    "print(intro)"
   ]
  },
  {
   "cell_type": "markdown",
   "id": "81915ed4",
   "metadata": {},
   "source": [
    "### Penulisan String Python\n",
    "Case Sensitive dalam setiap penjabarannya jadi perhatikan dengan baik saat membuat variabel"
   ]
  },
  {
   "cell_type": "code",
   "execution_count": 2,
   "id": "d0f77168",
   "metadata": {},
   "outputs": [
    {
     "name": "stdout",
     "output_type": "stream",
     "text": [
      "Saya Belajar Python\n"
     ]
    }
   ],
   "source": [
    "variabel1 = \"Saya Belajar\"\n",
    "Variabel1 = \"Python\"\n",
    "print(variabel1+' '+Variabel1)"
   ]
  },
  {
   "cell_type": "markdown",
   "id": "b367eb42",
   "metadata": {},
   "source": [
    "### Penulisan Integer Python"
   ]
  },
  {
   "cell_type": "code",
   "execution_count": 3,
   "id": "858f555d",
   "metadata": {},
   "outputs": [
    {
     "name": "stdout",
     "output_type": "stream",
     "text": [
      "7\n",
      "10\n",
      "3\n",
      "2.5\n"
     ]
    }
   ],
   "source": [
    "a = 5\n",
    "b = 2\n",
    "print(a+b)\n",
    "print(a*b)\n",
    "print(a-b)\n",
    "print(a/b)"
   ]
  },
  {
   "cell_type": "markdown",
   "id": "35f164af",
   "metadata": {},
   "source": [
    "### Control Statement Python"
   ]
  },
  {
   "cell_type": "code",
   "execution_count": 4,
   "id": "28d111fc",
   "metadata": {},
   "outputs": [
    {
     "name": "stdout",
     "output_type": "stream",
     "text": [
      "0\n",
      "1\n",
      "2\n",
      "3\n",
      "4\n"
     ]
    }
   ],
   "source": [
    "for i in range(5):\n",
    "    print (i)"
   ]
  },
  {
   "cell_type": "code",
   "execution_count": 5,
   "id": "7ae03155",
   "metadata": {},
   "outputs": [
    {
     "name": "stdout",
     "output_type": "stream",
     "text": [
      "lebih besar\n"
     ]
    }
   ],
   "source": [
    "a = 5\n",
    "b = 2\n",
    "if a > b:\n",
    "    print(\"lebih besar\")\n",
    "else : \n",
    "    print(\"lebih kecil\")\n"
   ]
  },
  {
   "cell_type": "code",
   "execution_count": 6,
   "id": "2c5ebc43",
   "metadata": {},
   "outputs": [
    {
     "name": "stdout",
     "output_type": "stream",
     "text": [
      "bilangan positif\n"
     ]
    }
   ],
   "source": [
    "a = int(input(\"masukkan angka: \"))\n",
    "if a > 0:\n",
    "    print(\"bilangan positif\")\n",
    "elif a == 0:\n",
    "    print(\"bilangan nol\")\n",
    "else:\n",
    "    print(\"bilangan negatif\")"
   ]
  },
  {
   "cell_type": "code",
   "execution_count": 7,
   "id": "5c47cb71",
   "metadata": {},
   "outputs": [
    {
     "name": "stdout",
     "output_type": "stream",
     "text": [
      "bilangan positif\n"
     ]
    }
   ],
   "source": [
    "a = float(input(\"masukkan angka: \"))\n",
    "if a >= 0:\n",
    "    if a == 0:\n",
    "        print(\"bilangan nol\")\n",
    "    else:\n",
    "        print(\"bilangan positif\")\n",
    "else:\n",
    "    print(\"bilangan negatif\")"
   ]
  },
  {
   "cell_type": "markdown",
   "id": "9c7224b5",
   "metadata": {},
   "source": [
    "# Definisi Matriks\n",
    "\n",
    "Matriks dalam dunia metematika merupakan suatu bilangan, simbol, ataupun ekspresi yang disusun dalam baris dan kolom yang membentuk suatu bidang persegi/persegi panjang. Matriks memiliki ukuran/orde. Pada Python, matriks dapat dibuat sesuai kebutuhan dengan menentukan ukuran/orde dari matriks. Bentuk umum ukuran/orde matriks adalah mxn, m adalah banyak baris dan n adalah banyak kolom."
   ]
  },
  {
   "cell_type": "markdown",
   "id": "b2562e85",
   "metadata": {},
   "source": [
    "# Contoh Membuat Matriks Orde 2x2\n",
    "Berikut ini adalah syntax untuk membuat sebuah matriks yang diberi nama matriksA dengan ukuran/orde 2x2. Matriks orde 2x2 merupakan matriks yang memiliki nilai pada 2 baris dan 2 kolom. \n",
    "Pada contoh: \n",
    "matriksA memiliki:\n",
    "Baris 1 Kolom 1, nilai = 1\n",
    "Baris 1 Kolom 2, nilai = 0\n",
    "Baris 2 Kolom 1, nilai = 0\n",
    "Baris 2 Kolom 2, nilai = 1"
   ]
  },
  {
   "cell_type": "code",
   "execution_count": 8,
   "id": "339390b2",
   "metadata": {},
   "outputs": [
    {
     "name": "stdout",
     "output_type": "stream",
     "text": [
      "[[1, 0], [0, 1]]\n"
     ]
    }
   ],
   "source": [
    "#Matriks dengan ukuran 2x2\n",
    "matriksA = [ [1,0],[0,1] ]\n",
    "#Menampilkan matriks dengan nama matriksA\n",
    "print (matriksA)"
   ]
  },
  {
   "cell_type": "markdown",
   "id": "24da08a7",
   "metadata": {},
   "source": [
    "# Contoh Membuat Matriks Orde 3x3\n",
    "Berikut ini adalah syntax untuk membuat sebuah matriks yang diberi nama matriksB dengan ukuran/orde 3x3. Matriks orde 3x3 merupakan matriks yang memiliki nilai pada 3 baris dan 3 kolom. \n",
    "Pada contoh: \n",
    "matriksB memiliki:\n",
    "Baris 1 Kolom 1, nilai = 1\n",
    "Baris 1 Kolom 2, nilai = 0\n",
    "Baris 1 Kolom 3, nilai = 1\n",
    "Baris 2 Kolom 1, nilai = 0\n",
    "Baris 2 Kolom 2, nilai = 1\n",
    "Baris 2 Kolom 3, nilai = 0\n",
    "Baris 3 Kolom 1, nilai = 1\n",
    "Baris 3 Kolom 2, nilai = 0\n",
    "Baris 3 Kolom 3, nilai = 1"
   ]
  },
  {
   "cell_type": "code",
   "execution_count": 9,
   "id": "94889b85",
   "metadata": {},
   "outputs": [
    {
     "name": "stdout",
     "output_type": "stream",
     "text": [
      "[[1, 0, 1], [0, 1, 0], [1, 0, 1]]\n"
     ]
    }
   ],
   "source": [
    "#Matriks dengan ukuran 3x3\n",
    "matriksB = [ [1,0,1],[0,1,0],[1,0,1] ]\n",
    "#Menampilkan matriks dengan nama MatriksB\n",
    "print (matriksB)"
   ]
  },
  {
   "cell_type": "markdown",
   "id": "fc5c3048",
   "metadata": {},
   "source": [
    "# IMPORT LIBRARY IN PYTHON"
   ]
  },
  {
   "cell_type": "code",
   "execution_count": 10,
   "id": "920aaa35",
   "metadata": {},
   "outputs": [],
   "source": [
    "import tensorflow as tf\n",
    "import pandas as pd\n",
    "import scipy\n",
    "import sklearn\n",
    "import matplotlib as plt\n",
    "import seaborn as sns\n",
    "import numpy as np\n",
    "import keras\n",
    "#!pip3 install tensorflow\n"
   ]
  }
 ],
 "metadata": {
  "kernelspec": {
   "display_name": "Python 3",
   "language": "python",
   "name": "python3"
  },
  "language_info": {
   "codemirror_mode": {
    "name": "ipython",
    "version": 3
   },
   "file_extension": ".py",
   "mimetype": "text/x-python",
   "name": "python",
   "nbconvert_exporter": "python",
   "pygments_lexer": "ipython3",
   "version": "3.8.10"
  }
 },
 "nbformat": 4,
 "nbformat_minor": 5
}
